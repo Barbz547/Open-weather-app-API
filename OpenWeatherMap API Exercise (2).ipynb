{
 "cells": [
  {
   "cell_type": "code",
   "execution_count": 1,
   "metadata": {},
   "outputs": [],
   "source": [
    "# OpenweatherMap API\n",
    "\n",
    "# https://openweathermap.org"
   ]
  },
  {
   "cell_type": "code",
   "execution_count": null,
   "metadata": {},
   "outputs": [],
   "source": [
    "# API/Developer\n",
    "\n",
    "# Sign Up for account\n",
    "\n",
    "# Find Where API key is\n",
    "\n",
    "# Attach the API key to EVERY single API call\n",
    "\n",
    "# Look up API documentation for the current forecast\n",
    "\n",
    "# Find out how to make an API call\n",
    "\n",
    "# Current weather conditions\n",
    "# Today's High Temperature\n",
    "# Current Temperature\n",
    "# Today's Low Temperature\n",
    "# Humidity\n",
    "# City, State"
   ]
  },
  {
   "cell_type": "code",
   "execution_count": 19,
   "metadata": {},
   "outputs": [
    {
     "data": {
      "text/plain": [
       "{'coord': {'lon': -80.2706, 'lat': 26.2712},\n",
       " 'weather': [{'id': 800,\n",
       "   'main': 'Clear',\n",
       "   'description': 'clear sky',\n",
       "   'icon': '01n'}],\n",
       " 'base': 'stations',\n",
       " 'main': {'temp': 297.59,\n",
       "  'feels_like': 297.66,\n",
       "  'temp_min': 297.04,\n",
       "  'temp_max': 298.15,\n",
       "  'pressure': 1018,\n",
       "  'humidity': 60},\n",
       " 'visibility': 10000,\n",
       " 'wind': {'speed': 3.6, 'deg': 60, 'gust': 8.75},\n",
       " 'clouds': {'all': 1},\n",
       " 'dt': 1619489570,\n",
       " 'sys': {'type': 1,\n",
       "  'id': 5373,\n",
       "  'country': 'US',\n",
       "  'sunrise': 1619434037,\n",
       "  'sunset': 1619481004},\n",
       " 'timezone': -14400,\n",
       " 'id': 4151909,\n",
       " 'name': 'Coral Springs',\n",
       " 'cod': 200}"
      ]
     },
     "execution_count": 19,
     "metadata": {},
     "output_type": "execute_result"
    }
   ],
   "source": [
    "import requests as r\n",
    "data = r.get(\"https://api.openweathermap.org/data/2.5/weather?q=Coral%20Springs&appid=9046771f3ddc07e3401ccb526c3873be\").json()\n",
    "data"
   ]
  },
  {
   "cell_type": "code",
   "execution_count": 20,
   "metadata": {},
   "outputs": [
    {
     "name": "stdout",
     "output_type": "stream",
     "text": [
      "298.15\n",
      "297.59\n",
      "297.04\n",
      "60\n",
      "\n"
     ]
    }
   ],
   "source": [
    "#get current weather conditions\n",
    "#1 today's high temperature\n",
    "high_temp = data['main']['temp_max']\n",
    "print(high_temp)\n",
    "\n",
    "#2 get current temp\n",
    "current_temp = data['main']['temp']\n",
    "print(current_temp)\n",
    "\n",
    "#3 today's low\n",
    "low_temp = data['main']['temp_min']\n",
    "print(low_temp)\n",
    "\n",
    "#4 humidity\n",
    "humidity = data['main']['humidity']\n",
    "print(humidity)\n",
    "\n",
    "#5 city,state\n",
    "city = data['name']\n",
    "print()\n"
   ]
  },
  {
   "cell_type": "code",
   "execution_count": 21,
   "metadata": {},
   "outputs": [
    {
     "data": {
      "text/plain": [
       "60"
      ]
     },
     "execution_count": 21,
     "metadata": {},
     "output_type": "execute_result"
    }
   ],
   "source": [
    "import requests as r\n",
    "\n",
    "class Weather:\n",
    "    def __init__(self, city_name):\n",
    "        d = r.get(f\"https://api.openweathermap.org/data/2.5/weather?q={city_name.lower()}&appid=9046771f3ddc07e3401ccb526c3873be\").json()\n",
    "        self.city = d['name']\n",
    "        self.current_temp = d['main']['temp']\n",
    "        self.high_temp = d['main']['temp_max']\n",
    "        self.low_temp = d['main']['temp_min']\n",
    "        self.humidity = d['main']['humidity']\n",
    "        \n",
    "CS = Weather('Coral Springs')\n",
    "CS.humidity\n"
   ]
  },
  {
   "cell_type": "code",
   "execution_count": null,
   "metadata": {},
   "outputs": [],
   "source": []
  }
 ],
 "metadata": {
  "kernelspec": {
   "display_name": "Python 3",
   "language": "python",
   "name": "python3"
  },
  "language_info": {
   "codemirror_mode": {
    "name": "ipython",
    "version": 3
   },
   "file_extension": ".py",
   "mimetype": "text/x-python",
   "name": "python",
   "nbconvert_exporter": "python",
   "pygments_lexer": "ipython3",
   "version": "3.8.5"
  }
 },
 "nbformat": 4,
 "nbformat_minor": 5
}
